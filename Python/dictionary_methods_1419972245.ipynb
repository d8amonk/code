{
 "metadata": {
  "name": ""
 },
 "nbformat": 3,
 "nbformat_minor": 0,
 "worksheets": [
  {
   "cells": [
    {
     "cell_type": "markdown",
     "metadata": {},
     "source": [
      "Dictionary Methods\n",
      "==================\n",
      "\n",
      "Dictionaries are objects, and so they have methods.  In this lecture we'll look at some of these and how to use them.\n",
      "\n",
      "Let's start with the \"woobsters\" dictionary example from the Dictionaries lecture:"
     ]
    },
    {
     "cell_type": "code",
     "collapsed": false,
     "input": [
      "woobsters = {'immutable': 'unchanging over time or unable to be changed', 'mutable': 'liable to change'}"
     ],
     "language": "python",
     "metadata": {},
     "outputs": [],
     "prompt_number": 1
    },
    {
     "cell_type": "markdown",
     "metadata": {},
     "source": [
      "We can access values by indexing, so for example:"
     ]
    },
    {
     "cell_type": "code",
     "collapsed": false,
     "input": [
      "woobsters['mutable']"
     ],
     "language": "python",
     "metadata": {},
     "outputs": [
      {
       "metadata": {},
       "output_type": "pyout",
       "prompt_number": 2,
       "text": [
        "'liable to change'"
       ]
      }
     ],
     "prompt_number": 2
    },
    {
     "cell_type": "markdown",
     "metadata": {},
     "source": [
      "But if we try to index with a key that doesn't exist, we get a `KeyError`:"
     ]
    },
    {
     "cell_type": "code",
     "collapsed": false,
     "input": [
      "woobsters['blargle']"
     ],
     "language": "python",
     "metadata": {},
     "outputs": [
      {
       "ename": "KeyError",
       "evalue": "'blargle'",
       "output_type": "pyerr",
       "traceback": [
        "\u001b[0;31m---------------------------------------------------------------------------\u001b[0m\n\u001b[0;31mKeyError\u001b[0m                                  Traceback (most recent call last)",
        "\u001b[0;32m<ipython-input-3-0f75e524b111>\u001b[0m in \u001b[0;36m<module>\u001b[0;34m()\u001b[0m\n\u001b[0;32m----> 1\u001b[0;31m \u001b[0mwoobsters\u001b[0m\u001b[0;34m[\u001b[0m\u001b[0;34m'blargle'\u001b[0m\u001b[0;34m]\u001b[0m\u001b[0;34m\u001b[0m\u001b[0m\n\u001b[0m",
        "\u001b[0;31mKeyError\u001b[0m: 'blargle'"
       ]
      }
     ],
     "prompt_number": 3
    },
    {
     "cell_type": "markdown",
     "metadata": {},
     "source": [
      "### Accessing items with `get()`\n",
      "\n",
      "You can instead access values with the `get()` method which has a little more capability.  Get returns the value associated with a key, like indexing, but if the key doesn't exist it doesn't raise an error, but instead returns a default value `None`."
     ]
    },
    {
     "cell_type": "code",
     "collapsed": false,
     "input": [
      "print(woobsters.get('blargle'))"
     ],
     "language": "python",
     "metadata": {},
     "outputs": [
      {
       "output_type": "stream",
       "stream": "stdout",
       "text": [
        "None\n"
       ]
      }
     ],
     "prompt_number": 4
    },
    {
     "cell_type": "markdown",
     "metadata": {},
     "source": [
      "If you don't like `None` as the result, the `get()` method also takes an optional second argument which is the default value to return instead of `None` if the key doesn't exist:"
     ]
    },
    {
     "cell_type": "code",
     "collapsed": false,
     "input": [
      "woobsters.get('mutable', 'unknown')"
     ],
     "language": "python",
     "metadata": {},
     "outputs": [
      {
       "metadata": {},
       "output_type": "pyout",
       "prompt_number": 5,
       "text": [
        "'liable to change'"
       ]
      }
     ],
     "prompt_number": 5
    },
    {
     "cell_type": "code",
     "collapsed": false,
     "input": [
      "woobsters.get('blargle', 'unknown')"
     ],
     "language": "python",
     "metadata": {},
     "outputs": [
      {
       "metadata": {},
       "output_type": "pyout",
       "prompt_number": 6,
       "text": [
        "'unknown'"
       ]
      }
     ],
     "prompt_number": 6
    },
    {
     "cell_type": "markdown",
     "metadata": {},
     "source": [
      "### Removing items with `del`\n",
      "\n",
      "To remove an element from a dictionary, you can use the `del` keyword, just like lists.  You specify the key of the element that you want to remove using indexing notation:"
     ]
    },
    {
     "cell_type": "code",
     "collapsed": false,
     "input": [
      "del woobsters['immutable']\n",
      "woobsters"
     ],
     "language": "python",
     "metadata": {},
     "outputs": [
      {
       "metadata": {},
       "output_type": "pyout",
       "prompt_number": 7,
       "text": [
        "{'mutable': 'liable to change'}"
       ]
      }
     ],
     "prompt_number": 7
    },
    {
     "cell_type": "markdown",
     "metadata": {},
     "source": [
      "### Removing items with `pop()`\n",
      "\n",
      "You can also use the `pop()` method, similarly to the way it is used with lists.  The `pop()` method expects the key that you want to remove and returns the corresponding value.  It has an optional second argument, just like `get()`, which is the return value if the key is not in the dictionary:"
     ]
    },
    {
     "cell_type": "code",
     "collapsed": false,
     "input": [
      "woobsters.pop('mutable', 0)"
     ],
     "language": "python",
     "metadata": {},
     "outputs": [
      {
       "metadata": {},
       "output_type": "pyout",
       "prompt_number": 8,
       "text": [
        "'liable to change'"
       ]
      }
     ],
     "prompt_number": 8
    },
    {
     "cell_type": "code",
     "collapsed": false,
     "input": [
      "woobsters"
     ],
     "language": "python",
     "metadata": {},
     "outputs": [
      {
       "metadata": {},
       "output_type": "pyout",
       "prompt_number": 9,
       "text": [
        "{}"
       ]
      }
     ],
     "prompt_number": 9
    },
    {
     "cell_type": "code",
     "collapsed": false,
     "input": [
      "woobsters.pop('mutable', 0)"
     ],
     "language": "python",
     "metadata": {},
     "outputs": [
      {
       "metadata": {},
       "output_type": "pyout",
       "prompt_number": 10,
       "text": [
        "0"
       ]
      }
     ],
     "prompt_number": 10
    },
    {
     "cell_type": "markdown",
     "metadata": {},
     "source": [
      "There is the related method `popitem()` which , which will remove an arbitrary element and returns a tuple of the `(key, value)` of the item removed."
     ]
    },
    {
     "cell_type": "code",
     "collapsed": false,
     "input": [
      "woobsters = {'immutable': 'unchanging over time or unable to be changed', 'mutable': 'liable to change'}\n",
      "woobsters.popitem()"
     ],
     "language": "python",
     "metadata": {},
     "outputs": [
      {
       "metadata": {},
       "output_type": "pyout",
       "prompt_number": 11,
       "text": [
        "('mutable', 'liable to change')"
       ]
      }
     ],
     "prompt_number": 11
    },
    {
     "cell_type": "code",
     "collapsed": false,
     "input": [
      "woobsters"
     ],
     "language": "python",
     "metadata": {},
     "outputs": [
      {
       "metadata": {},
       "output_type": "pyout",
       "prompt_number": 12,
       "text": [
        "{'immutable': 'unchanging over time or unable to be changed'}"
       ]
      }
     ],
     "prompt_number": 12
    },
    {
     "cell_type": "markdown",
     "metadata": {},
     "source": [
      "This is useful when you want to get an element out of a dictionary, but don't particularly care which one you get.\n",
      "\n",
      "### Modifying dictionaries with `update()\n",
      "\n",
      "This example is a bit like the database example from the Dictionaries lecture where we queried a list of people out of a database, and each person was represented by a dictionary.  We have a person: James Clerk Maxwell, born in 1831:"
     ]
    },
    {
     "cell_type": "code",
     "collapsed": false,
     "input": [
      "person = {}\n",
      "person['first'] = \"Jmes\"\n",
      "person['last'] = \"Maxwell\"\n",
      "person['born'] = 1831\n",
      "print person"
     ],
     "language": "python",
     "metadata": {},
     "outputs": [
      {
       "output_type": "stream",
       "stream": "stdout",
       "text": [
        "{'born': 1831, 'last': 'Maxwell', 'first': 'Jmes'}\n"
       ]
      }
     ],
     "prompt_number": 13
    },
    {
     "cell_type": "markdown",
     "metadata": {},
     "source": [
      "But notice that there are some mistakes: the first name should be \"James\" not \"Jmes\", and we want to add \"Clerk\" as the middle name of the person.  So we can create a dictionary holding the modifications we want to make:"
     ]
    },
    {
     "cell_type": "code",
     "collapsed": false,
     "input": [
      "person_modifications = {'first': 'James', 'middle': 'Clerk'}"
     ],
     "language": "python",
     "metadata": {},
     "outputs": [],
     "prompt_number": 14
    },
    {
     "cell_type": "markdown",
     "metadata": {},
     "source": [
      "and then use the `update()` method to apply those changes:"
     ]
    },
    {
     "cell_type": "code",
     "collapsed": false,
     "input": [
      "person.update(person_modifications)\n",
      "person"
     ],
     "language": "python",
     "metadata": {},
     "outputs": [
      {
       "metadata": {},
       "output_type": "pyout",
       "prompt_number": 15,
       "text": [
        "{'born': 1831, 'first': 'James', 'last': 'Maxwell', 'middle': 'Clerk'}"
       ]
      }
     ],
     "prompt_number": 15
    },
    {
     "cell_type": "markdown",
     "metadata": {},
     "source": [
      "In effect, you are modifying multiple keys at one time within the dictionary.\n",
      "\n",
      "### More dictionary methods\n",
      "\n",
      "Let's start out with a barnyard that has a collection of animals and the number of animals of that type:"
     ]
    },
    {
     "cell_type": "code",
     "collapsed": false,
     "input": [
      "barn = {'cows': 1, 'dogs': 5, 'cats': 3}"
     ],
     "language": "python",
     "metadata": {},
     "outputs": [],
     "prompt_number": 16
    },
    {
     "cell_type": "markdown",
     "metadata": {},
     "source": [
      "We can ask if there are any chickens in the barnyard:"
     ]
    },
    {
     "cell_type": "code",
     "collapsed": false,
     "input": [
      "'chickens' in barn"
     ],
     "language": "python",
     "metadata": {},
     "outputs": [
      {
       "metadata": {},
       "output_type": "pyout",
       "prompt_number": 17,
       "text": [
        "False"
       ]
      }
     ],
     "prompt_number": 17
    },
    {
     "cell_type": "markdown",
     "metadata": {},
     "source": [
      "or if there are cows:"
     ]
    },
    {
     "cell_type": "code",
     "collapsed": false,
     "input": [
      "'cows' in barn"
     ],
     "language": "python",
     "metadata": {},
     "outputs": [
      {
       "metadata": {},
       "output_type": "pyout",
       "prompt_number": 18,
       "text": [
        "True"
       ]
      }
     ],
     "prompt_number": 18
    },
    {
     "cell_type": "markdown",
     "metadata": {},
     "source": [
      "If you want to know the list of animals that are in the barn, you can use the `keys()` method:"
     ]
    },
    {
     "cell_type": "code",
     "collapsed": false,
     "input": [
      "barn.keys()"
     ],
     "language": "python",
     "metadata": {},
     "outputs": [
      {
       "metadata": {},
       "output_type": "pyout",
       "prompt_number": 19,
       "text": [
        "['cows', 'cats', 'dogs']"
       ]
      }
     ],
     "prompt_number": 19
    },
    {
     "cell_type": "markdown",
     "metadata": {},
     "source": [
      "You can ask for the values as well:"
     ]
    },
    {
     "cell_type": "code",
     "collapsed": false,
     "input": [
      "barn.values()"
     ],
     "language": "python",
     "metadata": {},
     "outputs": [
      {
       "metadata": {},
       "output_type": "pyout",
       "prompt_number": 20,
       "text": [
        "[1, 3, 5]"
       ]
      }
     ],
     "prompt_number": 20
    },
    {
     "cell_type": "markdown",
     "metadata": {},
     "source": [
      "So if you want to know the total number of animals, you could sum up the list of values:"
     ]
    },
    {
     "cell_type": "code",
     "collapsed": false,
     "input": [
      "sum(barn.values())"
     ],
     "language": "python",
     "metadata": {},
     "outputs": [
      {
       "metadata": {},
       "output_type": "pyout",
       "prompt_number": 21,
       "text": [
        "9"
       ]
      }
     ],
     "prompt_number": 21
    },
    {
     "cell_type": "markdown",
     "metadata": {},
     "source": [
      "To get a list of the pairs of animals and the corresponding number, you can use `items()`:"
     ]
    },
    {
     "cell_type": "code",
     "collapsed": false,
     "input": [
      "barn.items()"
     ],
     "language": "python",
     "metadata": {},
     "outputs": [
      {
       "metadata": {},
       "output_type": "pyout",
       "prompt_number": 22,
       "text": [
        "[('cows', 1), ('cats', 3), ('dogs', 5)]"
       ]
      }
     ],
     "prompt_number": 22
    },
    {
     "cell_type": "markdown",
     "metadata": {},
     "source": [
      "You can ask how many cats there are:"
     ]
    },
    {
     "cell_type": "code",
     "collapsed": false,
     "input": [
      "barn['cats']"
     ],
     "language": "python",
     "metadata": {},
     "outputs": [
      {
       "metadata": {},
       "output_type": "pyout",
       "prompt_number": 23,
       "text": [
        "3"
       ]
      }
     ],
     "prompt_number": 23
    },
    {
     "cell_type": "markdown",
     "metadata": {},
     "source": [
      "You can add some sheep:"
     ]
    },
    {
     "cell_type": "code",
     "collapsed": false,
     "input": [
      "barn['sheep'] = 5\n",
      "barn"
     ],
     "language": "python",
     "metadata": {},
     "outputs": [
      {
       "metadata": {},
       "output_type": "pyout",
       "prompt_number": 24,
       "text": [
        "{'cats': 3, 'cows': 1, 'dogs': 5, 'sheep': 5}"
       ]
      }
     ],
     "prompt_number": 24
    }
   ],
   "metadata": {}
  }
 ]
}